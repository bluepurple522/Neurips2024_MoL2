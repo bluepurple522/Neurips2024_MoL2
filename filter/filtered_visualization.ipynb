{
 "cells": [
  {
   "cell_type": "code",
   "execution_count": 1,
   "metadata": {},
   "outputs": [],
   "source": [
    "import wfdb\n",
    "import numpy as np\n",
    "import matplotlib.pyplot as plt"
   ]
  },
  {
   "cell_type": "code",
   "execution_count": 6,
   "metadata": {},
   "outputs": [],
   "source": [
    "# Records you want to visualize\n",
    "# For example, the raw signal for 3 seconds\n",
    "record = wfdb.rdrecord('../base_data/a01', sampfrom=0, sampto=300)\n",
    "\n",
    "# Read the ecg signal\n",
    "ecg_signal = record.p_signal[:,0]\n",
    "\n",
    "# Set the sampling frequency\n",
    "sampling_rate = record.fs\n",
    "\n",
    "# The result of FFT and frequency (for frequency-domain visualization)\n",
    "fft_result = np.fft.fft(ecg_signal)\n",
    "\n",
    "freq = np.fft.fftfreq(len(fft_result), 1/sampling_rate)"
   ]
  },
  {
   "cell_type": "code",
   "execution_count": null,
   "metadata": {},
   "outputs": [],
   "source": [
    "plt.figure(figsize=(4, 4))\n",
    "plt.subplot(2, 1, 1)\n",
    "plt.plot(ecg_signal)\n",
    "plt.title('Raw ECG signal for 3sec')\n",
    "plt.xlabel('Sample Number')\n",
    "plt.ylabel('Voltage (mV)')\n",
    "plt.ylim(-2,2)\n",
    "\n",
    "plt.subplot(2, 1, 2)\n",
    "plt.plot(freq, np.abs(fft_result))\n",
    "plt.title('FFT Result')\n",
    "plt.xlabel('Frequency (Hz)')\n",
    "plt.ylabel('Amplitude (mV)')\n",
    "plt.xlim(0, 40) \n",
    "plt.ylim(0, 14)\n",
    "\n",
    "plt.tight_layout()\n",
    "plt.show()"
   ]
  },
  {
   "cell_type": "code",
   "execution_count": null,
   "metadata": {},
   "outputs": [],
   "source": []
  }
 ],
 "metadata": {
  "kernelspec": {
   "display_name": "innie",
   "language": "python",
   "name": "python3"
  },
  "language_info": {
   "codemirror_mode": {
    "name": "ipython",
    "version": 3
   },
   "file_extension": ".py",
   "mimetype": "text/x-python",
   "name": "python",
   "nbconvert_exporter": "python",
   "pygments_lexer": "ipython3",
   "version": "3.7.16"
  },
  "orig_nbformat": 4
 },
 "nbformat": 4,
 "nbformat_minor": 2
}
