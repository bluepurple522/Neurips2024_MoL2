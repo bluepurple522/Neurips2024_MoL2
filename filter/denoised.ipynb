{
 "cells": [
  {
   "cell_type": "code",
   "execution_count": 6,
   "metadata": {},
   "outputs": [],
   "source": [
    "import numpy as np\n",
    "import pandas as pd\n",
    "import wfdb\n",
    "import os\n",
    "import scipy.signal as signal\n",
    "import biosppy.signals.tools as st\n",
    "\n",
    "from scipy.signal import butter, filtfilt\n",
    "\n",
    "from scipy.signal import butter, filtfilt, iirnotch, savgol_filter, medfilt"
   ]
  },
  {
   "cell_type": "code",
   "execution_count": 7,
   "metadata": {},
   "outputs": [],
   "source": [
    "#Setting up data directories and file names\n",
    "data_dir = '../base_data/'  # PhysioNet data directory\n",
    "record_name = 'x35'  # Record Name to Read\n",
    "\n",
    "record = wfdb.rdrecord(data_dir + record_name)\n",
    "ecg_signal = record.p_signal.flatten()"
   ]
  },
  {
   "cell_type": "code",
   "execution_count": 8,
   "metadata": {},
   "outputs": [],
   "source": [
    "# Input the sampling frequency\n",
    "# In PhysioNet data, sampling frequency is 100Hz\n",
    "fs = 100"
   ]
  },
  {
   "cell_type": "code",
   "execution_count": 9,
   "metadata": {},
   "outputs": [],
   "source": [
    "# Set the filters you want\n",
    "# 1. Apply a fourth Butterworth low-pass filter to eliminate high-frequency interference above 45 Hz\n",
    "def butterworth_lowpass_filter(input_signal, fs, cutoff_freq):\n",
    "    nyquist_freq = 0.5 * fs\n",
    "    normal_cutoff = cutoff_freq / nyquist_freq\n",
    "    b, a = signal.butter(4, normal_cutoff, btype='low', analog=False)\n",
    "    filtered_signal = signal.filtfilt(b, a, input_signal)\n",
    "    return filtered_signal\n",
    "\n",
    "# 2. Filter the baseline drift or muscle noise signal through a fourth bandpass filter with a frequency band of 0.5 Hz to 10 Hz\n",
    "def bandpass_filter(input_signal, fs, lowcut, highcut):\n",
    "    nyquist_freq = 0.5 * fs\n",
    "    low = lowcut / nyquist_freq\n",
    "    high = highcut / nyquist_freq\n",
    "    b, a = signal.butter(4, [low, high], btype='band', analog=False)\n",
    "    filtered_signal = signal.filtfilt(b, a, input_signal)\n",
    "    return filtered_signal\n",
    "\n",
    "# 3. Use a Median filter to remove isolated noise\n",
    "def median_filter(input_signal, kernel_size):\n",
    "    filtered_signal = signal.medfilt(input_signal, kernel_size)\n",
    "    return filtered_signal"
   ]
  },
  {
   "cell_type": "code",
   "execution_count": 10,
   "metadata": {},
   "outputs": [],
   "source": [
    "# Filter 1\n",
    "ecg_signal_filtered = butterworth_lowpass_filter(ecg_signal, fs=100, cutoff_freq=45)\n",
    "\n",
    "# Filter 2\n",
    "ecg_signal_filtered = bandpass_filter(ecg_signal_filtered, fs=100, lowcut=0.5, highcut=10)\n",
    "\n",
    "# Filter 3\n",
    "ecg_signal_filtered = median_filter(ecg_signal_filtered, kernel_size=3)"
   ]
  },
  {
   "cell_type": "code",
   "execution_count": 11,
   "metadata": {},
   "outputs": [],
   "source": [
    "# Converting filtered signals to a two-dimensional array\n",
    "filtered_signal = np.reshape(ecg_signal_filtered, (-1, 1))\n",
    "\n",
    "# Set the file name to store the data\n",
    "new_record_name = 'x35'\n",
    "\n",
    "# Save the data\n",
    "wfdb.wrsamp(new_record_name, fs=fs, units=['mV'], fmt=['16'], sig_name=['ECG'], p_signal=filtered_signal)"
   ]
  }
 ],
 "metadata": {
  "kernelspec": {
   "display_name": "innie",
   "language": "python",
   "name": "python3"
  },
  "language_info": {
   "codemirror_mode": {
    "name": "ipython",
    "version": 3
   },
   "file_extension": ".py",
   "mimetype": "text/x-python",
   "name": "python",
   "nbconvert_exporter": "python",
   "pygments_lexer": "ipython3",
   "version": "3.7.16"
  },
  "orig_nbformat": 4
 },
 "nbformat": 4,
 "nbformat_minor": 2
}
